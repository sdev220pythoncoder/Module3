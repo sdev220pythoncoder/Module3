{
 "cells": [
  {
   "cell_type": "markdown",
   "id": "1abd2242-6ccb-4fc6-85db-abbf47119efa",
   "metadata": {},
   "source": [
    "<h1>7.4 Make a list called things with these three strings as elements: \"mozzarella\", \"cinderella\", \"salmonella\".</h1)"
   ]
  },
  {
   "cell_type": "code",
   "execution_count": 4,
   "id": "f52eb84d-96c0-4877-aa54-3b3ab29b497a",
   "metadata": {},
   "outputs": [
    {
     "data": {
      "text/plain": [
       "['mozzarella', 'cinderella', 'salmonella']"
      ]
     },
     "execution_count": 4,
     "metadata": {},
     "output_type": "execute_result"
    }
   ],
   "source": [
    "things = ['mozzarella', 'cinderella', 'salmonella']\n",
    "things"
   ]
  },
  {
   "cell_type": "markdown",
   "id": "0bdd146e-b7ba-4d44-9b8c-26b7ae49a678",
   "metadata": {},
   "source": [
    "<h1>7.5 Capitalize the element in things that refers to a person and then print the list. Did it change the element in the list?</h1>"
   ]
  },
  {
   "cell_type": "code",
   "execution_count": 8,
   "id": "50179047-c5ff-4fb0-bb96-76a548c6b782",
   "metadata": {},
   "outputs": [
    {
     "name": "stdout",
     "output_type": "stream",
     "text": [
      "Cinderella\n"
     ]
    },
    {
     "data": {
      "text/plain": [
       "['mozzarella', 'cinderella', 'salmonella']"
      ]
     },
     "execution_count": 8,
     "metadata": {},
     "output_type": "execute_result"
    }
   ],
   "source": [
    "things[1].capitalize()\n",
    "print(things[1].capitalize())\n",
    "things"
   ]
  },
  {
   "cell_type": "markdown",
   "id": "7932e70f-4a04-4e95-bc23-b18d8b65e3b8",
   "metadata": {},
   "source": [
    "<div>It did not change the element in the list.  However, if I interpreted the question that it wanted me to permanently change the eleent to uppercase, it would have changed it as seen below:</div>"
   ]
  },
  {
   "cell_type": "code",
   "execution_count": 11,
   "id": "541c8ab8-7cb9-41b0-9212-7db0cfdecc9b",
   "metadata": {},
   "outputs": [
    {
     "data": {
      "text/plain": [
       "['mozzarella', 'Cinderella', 'salmonella']"
      ]
     },
     "execution_count": 11,
     "metadata": {},
     "output_type": "execute_result"
    }
   ],
   "source": [
    "things[1] = things[1].capitalize()\n",
    "things"
   ]
  },
  {
   "cell_type": "markdown",
   "id": "82681492-5337-4161-b760-725770e9a1bf",
   "metadata": {},
   "source": [
    "<H1>7.6 Make the cheesy element of things all uppercase and then print the list.</h1>"
   ]
  },
  {
   "cell_type": "code",
   "execution_count": 14,
   "id": "9611b2a4-a8bc-4664-8c14-44854969025d",
   "metadata": {},
   "outputs": [
    {
     "data": {
      "text/plain": [
       "['Mozzarella', 'Cinderella', 'salmonella']"
      ]
     },
     "execution_count": 14,
     "metadata": {},
     "output_type": "execute_result"
    }
   ],
   "source": [
    "things[0] = things[0].capitalize()\n",
    "things"
   ]
  },
  {
   "cell_type": "markdown",
   "id": "6a7eda42-06ae-48ec-be38-2c54cd8791ce",
   "metadata": {},
   "source": [
    "<h1>7.7 Delete the disease element from things, collect your Nobel Prize, and print the list.</h1>"
   ]
  },
  {
   "cell_type": "code",
   "execution_count": null,
   "id": "26229812-f0d0-43d4-baa6-cb8884e24c58",
   "metadata": {},
   "outputs": [],
   "source": []
  },
  {
   "cell_type": "code",
   "execution_count": 17,
   "id": "97d4b1ba-9815-4e8c-8bca-c7991dbcf2fa",
   "metadata": {},
   "outputs": [
    {
     "data": {
      "text/plain": [
       "['Mozzarella', 'Cinderella']"
      ]
     },
     "execution_count": 17,
     "metadata": {},
     "output_type": "execute_result"
    }
   ],
   "source": [
    "del things[2]\n",
    "things"
   ]
  },
  {
   "cell_type": "markdown",
   "id": "95670e0d-b804-49aa-875c-8fd0a07860bc",
   "metadata": {},
   "source": [
    "<h1>9.1 Define a function called good() that returns the following list: ['Harry', 'Ron', 'Hermione'].</h1>"
   ]
  },
  {
   "cell_type": "code",
   "execution_count": null,
   "id": "0181776c-73eb-4010-97d2-66d1e91d0c28",
   "metadata": {},
   "outputs": [],
   "source": []
  },
  {
   "cell_type": "code",
   "execution_count": 2,
   "id": "4b04e5cd-ec15-440d-9bc8-6bb9deb0e35d",
   "metadata": {},
   "outputs": [
    {
     "data": {
      "text/plain": [
       "['Harry', 'Ron', 'Hermione']"
      ]
     },
     "execution_count": 2,
     "metadata": {},
     "output_type": "execute_result"
    }
   ],
   "source": [
    "def good():\n",
    "    goodList = ['Harry','Ron','Hermione']\n",
    "    return goodList\n",
    "\n",
    "good()"
   ]
  },
  {
   "cell_type": "markdown",
   "id": "5419b1d2-4ee0-4b6e-9ad9-17be7eb1e589",
   "metadata": {},
   "source": [
    "<h1>9.2 Define a generator function called get_odds() that returns the odd numbers from range(10). Use a for loop to find and print the third value returned.</h1>"
   ]
  },
  {
   "cell_type": "code",
   "execution_count": 49,
   "id": "b7c71c53-4471-4467-a09b-8ae870de7a04",
   "metadata": {},
   "outputs": [
    {
     "name": "stdout",
     "output_type": "stream",
     "text": [
      "5\n"
     ]
    }
   ],
   "source": [
    "rangevar = range(10)\n",
    "def get_odds(rangevar):\n",
    "    for number in rangevar:\n",
    "        if number % 2 != 0:\n",
    "            yield number\n",
    "\n",
    "x = 0\n",
    "for number in get_odds(rangevar):\n",
    "    x += 1\n",
    "    if x == 3 :\n",
    "        print(number) \n",
    "        break\n",
    "       \n"
   ]
  },
  {
   "cell_type": "code",
   "execution_count": null,
   "id": "8b534796-9272-4a6c-b31b-31f0e84ee608",
   "metadata": {},
   "outputs": [],
   "source": []
  }
 ],
 "metadata": {
  "kernelspec": {
   "display_name": "Python [conda env:base] *",
   "language": "python",
   "name": "conda-base-py"
  },
  "language_info": {
   "codemirror_mode": {
    "name": "ipython",
    "version": 3
   },
   "file_extension": ".py",
   "mimetype": "text/x-python",
   "name": "python",
   "nbconvert_exporter": "python",
   "pygments_lexer": "ipython3",
   "version": "3.12.7"
  }
 },
 "nbformat": 4,
 "nbformat_minor": 5
}
