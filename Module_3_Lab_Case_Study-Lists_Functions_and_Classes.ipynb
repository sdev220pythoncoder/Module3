{
 "cells": [
  {
   "cell_type": "code",
   "execution_count": 128,
   "id": "4b142b8e-9685-40e1-b892-9095e658167d",
   "metadata": {},
   "outputs": [
    {
     "name": "stdin",
     "output_type": "stream",
     "text": [
      "What kind of vehicle is this? Car\n",
      "In what year was this vehicle made? 2020\n",
      "what is the make of this vehicle? Honda\n",
      "What is the model of this vehicle? Civic\n",
      "Enter the number of doors (value must be 2 or 4 : 3\n"
     ]
    },
    {
     "name": "stdout",
     "output_type": "stream",
     "text": [
      "please enter either 2 or 4\n"
     ]
    },
    {
     "name": "stdin",
     "output_type": "stream",
     "text": [
      "Enter the number of doors (value must be 2 or 4 : 4\n"
     ]
    },
    {
     "name": "stdout",
     "output_type": "stream",
     "text": [
      "Is this a solid roof or a sun roof?\n"
     ]
    },
    {
     "name": "stdin",
     "output_type": "stream",
     "text": [
      "(Type solid or sun):  moon\n"
     ]
    },
    {
     "name": "stdout",
     "output_type": "stream",
     "text": [
      "please enter solid or sun\n",
      "Is this a solid roof or a sun roof?\n"
     ]
    },
    {
     "name": "stdin",
     "output_type": "stream",
     "text": [
      "(Type solid or sun):  sun\n"
     ]
    },
    {
     "name": "stdout",
     "output_type": "stream",
     "text": [
      "The Vehicle Type is: Car\n",
      "The Year is: 2020\n",
      "The Make is: Honda\n",
      "The Model is: Civic\n",
      "The Vehicle has 4 doors\n",
      "The Vehicle has a sun roof\n"
     ]
    }
   ],
   "source": [
    "#Ryan Zartman\n",
    "#Module 3 Lab - Case Study: Lists, Functions, and Classes\n",
    "#Module_3_Lab_Case_Study-Lists_Functions_and_Classes.ipynb\n",
    "#Program Description:\n",
    "#This app will accept user input for a car. The app will store \"car\" into the vehicle type in your Vehicle super class. \n",
    "#The app will then ask the user for the year, make, model, doors, and type of roof and store thdata in the attributes above.\n",
    "#The app will then output the data in an easy-to-read and understandable format\n",
    "\n",
    "#Variables:\n",
    "#vehicelType = Theh type of vehicle\n",
    "#year, make, model, doors, roof = the attributes of the vehicle\n",
    "\n",
    "\n",
    "class Vehicle() :\n",
    "    def __init__(self, vehicleType):\n",
    "        self.vehicleType = vehicleType\n",
    "        \n",
    "\n",
    "class Automobile(Vehicle) :\n",
    "    def __init__(self,year, make, model, doors, roof):\n",
    "        super().__init__(vehicleType)\n",
    "        self.year = year\n",
    "        self.make = make\n",
    "        self.model = model\n",
    "        self.doors = doors\n",
    "        self.roof = roof\n",
    "        \n",
    "\n",
    "def getVehicleType():\n",
    "    vehicleType = input(\"What kind of vehicle is this?\")\n",
    "    return vehicleType\n",
    "\n",
    "def getAutomobileInfo():  \n",
    "    year = input(\"In what year was this vehicle made?\")        \n",
    "    make = input(\"what is the make of this vehicle?\") \n",
    "    model = input(\"What is the model of this vehicle?\") \n",
    "        \n",
    "    while True:\n",
    "            doors = input(\"Enter the number of doors (value must be 2 or 4 :\")\n",
    "            if doors == '2' or doors =='4':\n",
    "                break\n",
    "            else:    \n",
    "                print(\"please enter either 2 or 4\")\n",
    "\n",
    "    while True:\n",
    "            print(\"Is this a solid roof or a sun roof?\")\n",
    "\n",
    "            #i'm converting the input to lower case so that the if statement works regarless of what case they used\n",
    "            roof = input(\"(Type solid or sun): \").lower()  \n",
    "            if roof == 'solid' or roof =='sun':\n",
    "                break\n",
    "            else:\n",
    "                print(\"please enter solid or sun\")\n",
    "    automobileInfo = [year,make,model,doors,roof]\n",
    "    return automobileInfo\n",
    "\n",
    "\n",
    "vehicleType = getVehicleType()\n",
    "vehicle = Vehicle(vehicleType)\n",
    "\n",
    "automobileInfo = getAutomobileInfo()\n",
    "automobile = Automobile(*automobileInfo)\n",
    "\n",
    "print(f'The Vehicle Type is: {vehicle.vehicleType}')\n",
    "print(f'The Year is: {automobile.year}')\n",
    "print(f'The Make is: {automobile.make}')\n",
    "print(f'The Model is: {automobile.model}')\n",
    "print(f'The Vehicle has {automobile.doors} doors')\n",
    "print(f'The Vehicle has a {automobile.roof} roof')\n",
    "\n",
    "\n",
    "          "
   ]
  },
  {
   "cell_type": "code",
   "execution_count": null,
   "id": "40d7fa82-e54f-4d27-97bb-37fa944c885c",
   "metadata": {},
   "outputs": [],
   "source": []
  }
 ],
 "metadata": {
  "kernelspec": {
   "display_name": "Python [conda env:base] *",
   "language": "python",
   "name": "conda-base-py"
  },
  "language_info": {
   "codemirror_mode": {
    "name": "ipython",
    "version": 3
   },
   "file_extension": ".py",
   "mimetype": "text/x-python",
   "name": "python",
   "nbconvert_exporter": "python",
   "pygments_lexer": "ipython3",
   "version": "3.12.7"
  }
 },
 "nbformat": 4,
 "nbformat_minor": 5
}
